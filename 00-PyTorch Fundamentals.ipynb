{
 "cells": [
  {
   "cell_type": "code",
   "execution_count": 101,
   "metadata": {},
   "outputs": [],
   "source": [
    "from IPython.display import Image\n",
    "import numpy as np"
   ]
  },
  {
   "cell_type": "code",
   "execution_count": 1,
   "metadata": {},
   "outputs": [
    {
     "data": {
      "text/plain": [
       "'1.12.1+cu102'"
      ]
     },
     "execution_count": 1,
     "metadata": {},
     "output_type": "execute_result"
    }
   ],
   "source": [
    "import torch\n",
    "torch.__version__"
   ]
  },
  {
   "attachments": {},
   "cell_type": "markdown",
   "metadata": {},
   "source": [
    "#### Creating Tensors"
   ]
  },
  {
   "cell_type": "code",
   "execution_count": 7,
   "metadata": {},
   "outputs": [
    {
     "name": "stdout",
     "output_type": "stream",
     "text": [
      "tensor(7)\n",
      "<class 'torch.Tensor'>\n",
      "0\n",
      "torch.Size([])\n"
     ]
    }
   ],
   "source": [
    "#  scalar tensor\n",
    "scalar_tensor =torch.tensor(7)\n",
    "print(scalar_tensor)\n",
    "\n",
    "print(scalar_tensor.__class__)\n",
    "\n",
    "# shape of a tensor\n",
    "print(scalar_tensor.ndim)\n",
    "\n",
    "# shape of a tensor\n",
    "print(scalar_tensor.shape)\n",
    "\n",
    "# turn the pytorch tenmsor to python number\n",
    "print(scalar_tensor.item())"
   ]
  },
  {
   "cell_type": "code",
   "execution_count": 11,
   "metadata": {},
   "outputs": [
    {
     "name": "stdout",
     "output_type": "stream",
     "text": [
      "tensor([1, 2, 3, 4, 5])\n",
      "1\n",
      "torch.Size([5])\n",
      "[1, 2, 3, 4, 5]\n"
     ]
    }
   ],
   "source": [
    "#  vector\n",
    "vector_tensor = torch.tensor([1,2,3,4,5])\n",
    "print(vector_tensor)\n",
    "\n",
    "# shape of a tensor vector\n",
    "print(vector_tensor.ndim)\n",
    "\n",
    "# shape of a tensor vector\n",
    "print(vector_tensor.shape)\n",
    "\n",
    "#  turn the pytorch tenmsor to python list\n",
    "print(vector_tensor.tolist())"
   ]
  },
  {
   "cell_type": "code",
   "execution_count": 12,
   "metadata": {},
   "outputs": [
    {
     "name": "stdout",
     "output_type": "stream",
     "text": [
      "tensor([[ 1,  2,  3,  4,  5],\n",
      "        [ 6,  7,  8,  9, 10]])\n",
      "2\n",
      "torch.Size([2, 5])\n",
      "[[1, 2, 3, 4, 5], [6, 7, 8, 9, 10]]\n"
     ]
    }
   ],
   "source": [
    "#  matrix\n",
    "matrix_tensor = torch.tensor([[1,2,3,4,5],[6,7,8,9,10]])\n",
    "print(matrix_tensor)\n",
    "\n",
    "# shape of a tensor matrix\n",
    "print(matrix_tensor.ndim)\n",
    "\n",
    "# shape of a tensor matrix\n",
    "print(matrix_tensor.shape)\n",
    "\n",
    "#  turn the pytorch tenmsor to python list\n",
    "print(matrix_tensor.tolist())"
   ]
  },
  {
   "cell_type": "code",
   "execution_count": 13,
   "metadata": {},
   "outputs": [
    {
     "name": "stdout",
     "output_type": "stream",
     "text": [
      "tensor([[[ 1,  2,  3],\n",
      "         [ 4,  5,  6]],\n",
      "\n",
      "        [[ 7,  8,  9],\n",
      "         [10, 11, 12]]])\n",
      "3\n",
      "torch.Size([2, 2, 3])\n",
      "[[[1, 2, 3], [4, 5, 6]], [[7, 8, 9], [10, 11, 12]]]\n"
     ]
    }
   ],
   "source": [
    "#  create 3d tensor in pytorch\n",
    "tensor_3d = torch.tensor([[[1,2,3],[4,5,6]],[[7,8,9],[10,11,12]]])\n",
    "print(tensor_3d)\n",
    "\n",
    "# shape of a tensor 3d\n",
    "print(tensor_3d.ndim)\n",
    "\n",
    "# shape of a tensor 3d\n",
    "print(tensor_3d.shape)\n",
    "\n",
    "#  turn the pytorch tenmsor to python list\n",
    "print(tensor_3d.tolist())"
   ]
  },
  {
   "cell_type": "code",
   "execution_count": 16,
   "metadata": {},
   "outputs": [
    {
     "data": {
      "text/html": [
       "<img src=\"https://raw.githubusercontent.com/mrdbourke/pytorch-deep-learning/main/images/00-pytorch-different-tensor-dimensions.png\" width=\"800\" height=\"400\"/>"
      ],
      "text/plain": [
       "<IPython.core.display.Image object>"
      ]
     },
     "execution_count": 16,
     "metadata": {},
     "output_type": "execute_result"
    }
   ],
   "source": [
    "# show the image from the web\n",
    "\n",
    "image_url = \"https://raw.githubusercontent.com/mrdbourke/pytorch-deep-learning/main/images/00-pytorch-different-tensor-dimensions.png\"\n",
    "Image(url= image_url, width=800, height=400)"
   ]
  },
  {
   "attachments": {},
   "cell_type": "markdown",
   "metadata": {},
   "source": [
    "#### Creating Random Tensors"
   ]
  },
  {
   "cell_type": "code",
   "execution_count": 27,
   "metadata": {},
   "outputs": [
    {
     "name": "stdout",
     "output_type": "stream",
     "text": [
      "random_tensor vlaue is \n",
      " tensor([[0.9402, 0.1363, 0.7646, 0.8853],\n",
      "        [0.7855, 0.8835, 0.4324, 0.3900],\n",
      "        [0.6175, 0.6068, 0.6155, 0.5684]]), \n",
      " its data type is \n",
      " torch.float32\n"
     ]
    }
   ],
   "source": [
    "#  create a random tensor of size (3,4)\n",
    "random_tensor = torch.rand(3,4)\n",
    "print(f\"random_tensor vlaue is \\n {random_tensor}, \\n its data type is \\n {random_tensor.dtype}\")"
   ]
  },
  {
   "cell_type": "code",
   "execution_count": 28,
   "metadata": {},
   "outputs": [
    {
     "name": "stdout",
     "output_type": "stream",
     "text": [
      "random_tensor vlaue dimesnion is is \n",
      " 3, \n",
      " its shape is \n",
      " torch.Size([224, 224, 3])\n"
     ]
    }
   ],
   "source": [
    "# Create a random tensor of size (224, 224, 3)\n",
    "random_tensor = torch.rand(224, 224, 3)\n",
    "print(f\"random_tensor vlaue dimesnion is is \\n {random_tensor.ndim}, \\n its shape is \\n {random_tensor.shape}\")"
   ]
  },
  {
   "cell_type": "markdown",
   "metadata": {},
   "source": [
    "#### Creating Zeros and Ones Tenors "
   ]
  },
  {
   "cell_type": "code",
   "execution_count": 30,
   "metadata": {},
   "outputs": [
    {
     "name": "stdout",
     "output_type": "stream",
     "text": [
      "tensor([[0., 0., 0., 0.],\n",
      "        [0., 0., 0., 0.],\n",
      "        [0., 0., 0., 0.]]) torch.float32\n"
     ]
    }
   ],
   "source": [
    "# Create a tensor of all zeros\n",
    "tensor_of_zeros = torch.zeros(3,4)\n",
    "print(tensor_of_zeros, tensor_of_zeros.dtype)"
   ]
  },
  {
   "cell_type": "code",
   "execution_count": 31,
   "metadata": {},
   "outputs": [
    {
     "name": "stdout",
     "output_type": "stream",
     "text": [
      "tensor([[1., 1., 1., 1.],\n",
      "        [1., 1., 1., 1.],\n",
      "        [1., 1., 1., 1.]]) torch.float32\n"
     ]
    }
   ],
   "source": [
    "# Create a tensor of all ones\n",
    "tensor_of_ones = torch.ones(3,4)\n",
    "print(tensor_of_ones, tensor_of_ones.dtype)"
   ]
  },
  {
   "attachments": {},
   "cell_type": "markdown",
   "metadata": {},
   "source": [
    "#### Creating a Range and Tensors Like"
   ]
  },
  {
   "cell_type": "code",
   "execution_count": 33,
   "metadata": {},
   "outputs": [
    {
     "name": "stdout",
     "output_type": "stream",
     "text": [
      "tensor([0, 2, 4, 6, 8])\n"
     ]
    }
   ],
   "source": [
    "#  create tesnors in a specific range\n",
    "tensor_in_range = torch.arange(start=0, end=10, step=2)\n",
    "print(tensor_in_range)"
   ]
  },
  {
   "cell_type": "code",
   "execution_count": 34,
   "metadata": {},
   "outputs": [
    {
     "name": "stdout",
     "output_type": "stream",
     "text": [
      "tensor([0, 0, 0, 0, 0])\n"
     ]
    }
   ],
   "source": [
    "# zero tensors with the same shape as tensor_in_range\n",
    "zero_tensor = torch.zeros_like(tensor_in_range)\n",
    "print(zero_tensor)"
   ]
  },
  {
   "attachments": {},
   "cell_type": "markdown",
   "metadata": {},
   "source": [
    "#### Tensor datatypes "
   ]
  },
  {
   "cell_type": "code",
   "execution_count": 37,
   "metadata": {},
   "outputs": [
    {
     "name": "stdout",
     "output_type": "stream",
     "text": [
      "torch.Size([2, 3]) torch.float32 cpu False\n"
     ]
    }
   ],
   "source": [
    "#  Create a tensor with the dfeault datatype in pytroch\n",
    "tensor_default = torch.tensor([[1.0, 2.0, 3.0], [4.0, 5.0, 6.0]],\n",
    "                              dtype=None,\n",
    "                              device=None,\n",
    "                              requires_grad=False)\n",
    "print(tensor_default.shape, tensor_default.dtype, tensor_default.device, tensor_default.requires_grad)\n"
   ]
  },
  {
   "cell_type": "code",
   "execution_count": 38,
   "metadata": {},
   "outputs": [
    {
     "name": "stdout",
     "output_type": "stream",
     "text": [
      "torch.Size([2, 3]) torch.float16 cpu False\n"
     ]
    }
   ],
   "source": [
    "#  Create a tensor with the float16 datatype in pytroch\n",
    "tensor_float16 = torch.tensor([[1.0, 2.0, 3.0], [4.0, 5.0, 6.0]],\n",
    "                                dtype=torch.float16,\n",
    "                                device=None,\n",
    "                                requires_grad=False)\n",
    "\n",
    "print(tensor_float16.shape, tensor_float16.dtype, tensor_float16.device, tensor_float16.requires_grad)"
   ]
  },
  {
   "attachments": {},
   "cell_type": "markdown",
   "metadata": {},
   "source": [
    "#### Getting Information from Tensors"
   ]
  },
  {
   "cell_type": "code",
   "execution_count": 41,
   "metadata": {},
   "outputs": [
    {
     "name": "stdout",
     "output_type": "stream",
     "text": [
      "tesnor shape is torch.Size([2, 3])\n",
      "tesnor data type is torch.float32\n",
      "tesnor is stored on cpu\n"
     ]
    }
   ],
   "source": [
    "#  Create a tensor in pytorch\n",
    "temp_tensor = torch.tensor([[1.0, 2.0, 3.0], [4.0, 5.0, 6.0]])\n",
    "\n",
    "# Get the ifnormation of the tensor\n",
    "print(f\"tesnor shape is {temp_tensor.shape}\")\n",
    "print(f\"tesnor data type is {temp_tensor.dtype}\")\n",
    "print(f\"tesnor is stored on {temp_tensor.device}\")"
   ]
  },
  {
   "attachments": {},
   "cell_type": "markdown",
   "metadata": {},
   "source": [
    "#### Manipulating Tensors (Tensor Pperations)"
   ]
  },
  {
   "attachments": {},
   "cell_type": "markdown",
   "metadata": {},
   "source": [
    "##### Basic Operations"
   ]
  },
  {
   "cell_type": "code",
   "execution_count": 55,
   "metadata": {},
   "outputs": [
    {
     "name": "stdout",
     "output_type": "stream",
     "text": [
      "tensor([[11., 12., 13.],\n",
      "        [14., 15., 16.]])\n",
      "tensor([[10.2500, 20.5000, 30.7500],\n",
      "        [41.0000, 51.2500, 61.5000]])\n",
      "tensor([[1., 2., 3.],\n",
      "        [4., 5., 6.]])\n",
      "tensor([[-9., -8., -7.],\n",
      "        [-6., -5., -4.]])\n",
      "tensor([[1., 2., 3.],\n",
      "        [4., 5., 6.]])\n",
      "tensor([[ 1.,  4.,  9.],\n",
      "        [16., 25., 36.]])\n",
      "tensor([[14., 32.],\n",
      "        [32., 77.]])\n"
     ]
    }
   ],
   "source": [
    "# Create a tensor of values\n",
    "temp_tensor = torch.tensor([[1.0, 2.0, 3.0], [4.0, 5.0, 6.0]])\n",
    "\n",
    "#  Add a number to it\n",
    "print(temp_tensor+10.0)\n",
    "\n",
    "# # Multiply it by 10.25\n",
    "print(temp_tensor * 10.25)\n",
    "\n",
    "# Tensors don't change unless reassigned\n",
    "print(temp_tensor)\n",
    "\n",
    "# Subtract and reassign\n",
    "temp_tensor = temp_tensor - 10.0\n",
    "print(temp_tensor)\n",
    "\n",
    "#  Add and reassign\n",
    "temp_tensor = temp_tensor + 10.0\n",
    "print(temp_tensor)\n",
    "\n",
    "# Element-wise multiplication\n",
    "print(temp_tensor * temp_tensor)\n",
    "\n",
    "# Matrix multiplication with @ operator\n",
    "print(temp_tensor @ temp_tensor.T)"
   ]
  },
  {
   "cell_type": "code",
   "execution_count": 54,
   "metadata": {},
   "outputs": [
    {
     "name": "stdout",
     "output_type": "stream",
     "text": [
      "tensor([[11., 12., 13.],\n",
      "        [14., 15., 16.]])\n",
      "tensor([[10.2500, 20.5000, 30.7500],\n",
      "        [41.0000, 51.2500, 61.5000]])\n",
      "tensor([[-9., -8., -7.],\n",
      "        [-6., -5., -4.]])\n",
      "tensor([[14., 32.],\n",
      "        [32., 77.]])\n",
      "tensor([[14., 32.],\n",
      "        [32., 77.]])\n"
     ]
    }
   ],
   "source": [
    "temp_tensor = torch.tensor([[1.0, 2.0, 3.0], [4.0, 5.0, 6.0]])\n",
    "\n",
    "# Add a number to it with torch function\n",
    "print(torch.add(temp_tensor, 10.0))\n",
    "\n",
    "#  Multiply it by 10.25 with torch function\n",
    "print(torch.mul(temp_tensor, 10.25))\n",
    "\n",
    "# Subtract and reassign with torch function\n",
    "print(torch.sub(temp_tensor, 10.0))\n",
    "\n",
    "# Matrix multiplication\n",
    "print(torch.matmul(temp_tensor, temp_tensor.T))\n"
   ]
  },
  {
   "cell_type": "code",
   "execution_count": 56,
   "metadata": {},
   "outputs": [
    {
     "data": {
      "text/html": [
       "<img src=\"https://github.com/mrdbourke/pytorch-deep-learning/raw/main/images/00-matrix-multiply-crop.gif\" width=\"800\" height=\"400\"/>"
      ],
      "text/plain": [
       "<IPython.core.display.Image object>"
      ]
     },
     "execution_count": 56,
     "metadata": {},
     "output_type": "execute_result"
    }
   ],
   "source": [
    "#  show the image from the web\n",
    "\n",
    "image_url = \"https://github.com/mrdbourke/pytorch-deep-learning/raw/main/images/00-matrix-multiply-crop.gif\"\n",
    "Image(url= image_url, width=800, height=400)"
   ]
  },
  {
   "attachments": {},
   "cell_type": "markdown",
   "metadata": {},
   "source": [
    "#### Aggregation in Tensors"
   ]
  },
  {
   "cell_type": "code",
   "execution_count": 68,
   "metadata": {},
   "outputs": [
    {
     "name": "stdout",
     "output_type": "stream",
     "text": [
      "torch.Size([3, 4, 2])\n",
      "tensor([[ 9., 10.],\n",
      "        [11., 12.],\n",
      "        [13., 14.],\n",
      "        [15., 16.]])\n",
      "tensor([[ 4.,  5.],\n",
      "        [12., 13.],\n",
      "        [20., 21.]])\n",
      "tensor([[ 1.5000,  3.5000,  5.5000,  7.5000],\n",
      "        [ 9.5000, 11.5000, 13.5000, 15.5000],\n",
      "        [17.5000, 19.5000, 21.5000, 23.5000]])\n",
      "tensor([[ 9., 10.],\n",
      "        [11., 12.],\n",
      "        [13., 14.],\n",
      "        [15., 16.]])\n",
      "tensor([[ 4.,  5.],\n",
      "        [12., 13.],\n",
      "        [20., 21.]])\n",
      "tensor([[ 1.5000,  3.5000,  5.5000,  7.5000],\n",
      "        [ 9.5000, 11.5000, 13.5000, 15.5000],\n",
      "        [17.5000, 19.5000, 21.5000, 23.5000]])\n",
      "tensor([[27., 30.],\n",
      "        [33., 36.],\n",
      "        [39., 42.],\n",
      "        [45., 48.]])\n",
      "tensor([[16., 20.],\n",
      "        [48., 52.],\n",
      "        [80., 84.]])\n",
      "tensor([[ 3.,  7., 11., 15.],\n",
      "        [19., 23., 27., 31.],\n",
      "        [35., 39., 43., 47.]])\n",
      "tensor([[27., 30.],\n",
      "        [33., 36.],\n",
      "        [39., 42.],\n",
      "        [45., 48.]])\n",
      "tensor([[16., 20.],\n",
      "        [48., 52.],\n",
      "        [80., 84.]])\n",
      "tensor([[ 3.,  7., 11., 15.],\n",
      "        [19., 23., 27., 31.],\n",
      "        [35., 39., 43., 47.]])\n",
      "torch.return_types.max(\n",
      "values=tensor([[17., 18.],\n",
      "        [19., 20.],\n",
      "        [21., 22.],\n",
      "        [23., 24.]]),\n",
      "indices=tensor([[2, 2],\n",
      "        [2, 2],\n",
      "        [2, 2],\n",
      "        [2, 2]]))\n",
      "torch.return_types.min(\n",
      "values=tensor([[1., 2.],\n",
      "        [3., 4.],\n",
      "        [5., 6.],\n",
      "        [7., 8.]]),\n",
      "indices=tensor([[0, 0],\n",
      "        [0, 0],\n",
      "        [0, 0],\n",
      "        [0, 0]]))\n",
      "torch.return_types.max(\n",
      "values=tensor([[17., 18.],\n",
      "        [19., 20.],\n",
      "        [21., 22.],\n",
      "        [23., 24.]]),\n",
      "indices=tensor([[2, 2],\n",
      "        [2, 2],\n",
      "        [2, 2],\n",
      "        [2, 2]]))\n",
      "torch.return_types.min(\n",
      "values=tensor([[1., 2.],\n",
      "        [3., 4.],\n",
      "        [5., 6.],\n",
      "        [7., 8.]]),\n",
      "indices=tensor([[0, 0],\n",
      "        [0, 0],\n",
      "        [0, 0],\n",
      "        [0, 0]]))\n",
      "torch.return_types.max(\n",
      "values=tensor([[ 7.,  8.],\n",
      "        [15., 16.],\n",
      "        [23., 24.]]),\n",
      "indices=tensor([[3, 3],\n",
      "        [3, 3],\n",
      "        [3, 3]]))\n",
      "torch.return_types.min(\n",
      "values=tensor([[ 1.,  2.],\n",
      "        [ 9., 10.],\n",
      "        [17., 18.]]),\n",
      "indices=tensor([[0, 0],\n",
      "        [0, 0],\n",
      "        [0, 0]]))\n",
      "torch.return_types.max(\n",
      "values=tensor([[ 7.,  8.],\n",
      "        [15., 16.],\n",
      "        [23., 24.]]),\n",
      "indices=tensor([[3, 3],\n",
      "        [3, 3],\n",
      "        [3, 3]]))\n",
      "torch.return_types.min(\n",
      "values=tensor([[ 1.,  2.],\n",
      "        [ 9., 10.],\n",
      "        [17., 18.]]),\n",
      "indices=tensor([[0, 0],\n",
      "        [0, 0],\n",
      "        [0, 0]]))\n",
      "torch.return_types.max(\n",
      "values=tensor([[ 2.,  4.,  6.,  8.],\n",
      "        [10., 12., 14., 16.],\n",
      "        [18., 20., 22., 24.]]),\n",
      "indices=tensor([[1, 1, 1, 1],\n",
      "        [1, 1, 1, 1],\n",
      "        [1, 1, 1, 1]]))\n",
      "torch.return_types.min(\n",
      "values=tensor([[ 1.,  3.,  5.,  7.],\n",
      "        [ 9., 11., 13., 15.],\n",
      "        [17., 19., 21., 23.]]),\n",
      "indices=tensor([[0, 0, 0, 0],\n",
      "        [0, 0, 0, 0],\n",
      "        [0, 0, 0, 0]]))\n",
      "torch.return_types.max(\n",
      "values=tensor([[ 2.,  4.,  6.,  8.],\n",
      "        [10., 12., 14., 16.],\n",
      "        [18., 20., 22., 24.]]),\n",
      "indices=tensor([[1, 1, 1, 1],\n",
      "        [1, 1, 1, 1],\n",
      "        [1, 1, 1, 1]]))\n",
      "torch.return_types.min(\n",
      "values=tensor([[ 1.,  3.,  5.,  7.],\n",
      "        [ 9., 11., 13., 15.],\n",
      "        [17., 19., 21., 23.]]),\n",
      "indices=tensor([[0, 0, 0, 0],\n",
      "        [0, 0, 0, 0],\n",
      "        [0, 0, 0, 0]]))\n"
     ]
    }
   ],
   "source": [
    "#  Create a tensor of size (3,4,2)\n",
    "temp_tensor = torch.tensor([[[1.0, 2.0], [3.0, 4.0], [5.0, 6.0], [7.0, 8.0]],\n",
    "                            [[9.0, 10.0], [11.0, 12.0], [\n",
    "                                13.0, 14.0], [15.0, 16.0]],\n",
    "                            [[17.0, 18.0], [19.0, 20.0], [21.0, 22.0], [23.0, 24.0]]])\n",
    "print(temp_tensor.shape)\n",
    "\n",
    "#  Get the mean of the tensor\n",
    "print(torch.mean(temp_tensor, dim=0))  # will not work for int dtype\n",
    "print(torch.mean(temp_tensor, dim=1))  # will not work for int dtype\n",
    "print(torch.mean(temp_tensor, dim=2))  # will not work for int dtype\n",
    "\n",
    "print(temp_tensor.mean(dim=0))  # will not work for int dtype\n",
    "print(temp_tensor.mean(dim=1))  # will not work for int dtype\n",
    "print(temp_tensor.mean(dim=2))  # will not work for int dtype\n",
    "\n",
    "#  Get the sum of the tensor\n",
    "print(torch.sum(temp_tensor, dim=0))\n",
    "print(torch.sum(temp_tensor, dim=1))\n",
    "print(torch.sum(temp_tensor, dim=2))\n",
    "\n",
    "print(temp_tensor.sum(dim=0))\n",
    "print(temp_tensor.sum(dim=1))\n",
    "print(temp_tensor.sum(dim=2))\n",
    "\n",
    "#  Get the max and min of the tensor\n",
    "print(torch.max(temp_tensor, dim=0))\n",
    "print(torch.min(temp_tensor, dim=0))\n",
    "\n",
    "print(temp_tensor.max(dim=0))\n",
    "print(temp_tensor.min(dim=0))\n",
    "\n",
    "print(torch.max(temp_tensor, dim=1))\n",
    "print(torch.min(temp_tensor, dim=1))\n",
    "\n",
    "print(temp_tensor.max(dim=1))\n",
    "print(temp_tensor.min(dim=1))\n",
    "\n",
    "print(torch.max(temp_tensor, dim=2))\n",
    "print(torch.min(temp_tensor, dim=2))\n",
    "\n",
    "print(temp_tensor.max(dim=2))\n",
    "print(temp_tensor.min(dim=2))"
   ]
  },
  {
   "cell_type": "code",
   "execution_count": 69,
   "metadata": {},
   "outputs": [
    {
     "name": "stdout",
     "output_type": "stream",
     "text": [
      "tensor([[2, 2],\n",
      "        [2, 2],\n",
      "        [2, 2],\n",
      "        [2, 2]])\n",
      "tensor([[0, 0],\n",
      "        [0, 0],\n",
      "        [0, 0],\n",
      "        [0, 0]])\n",
      "tensor([[2, 2],\n",
      "        [2, 2],\n",
      "        [2, 2],\n",
      "        [2, 2]])\n",
      "tensor([[0, 0],\n",
      "        [0, 0],\n",
      "        [0, 0],\n",
      "        [0, 0]])\n",
      "tensor([[3, 3],\n",
      "        [3, 3],\n",
      "        [3, 3]])\n",
      "tensor([[0, 0],\n",
      "        [0, 0],\n",
      "        [0, 0]])\n",
      "tensor([[3, 3],\n",
      "        [3, 3],\n",
      "        [3, 3]])\n",
      "tensor([[0, 0],\n",
      "        [0, 0],\n",
      "        [0, 0]])\n",
      "tensor([[1, 1, 1, 1],\n",
      "        [1, 1, 1, 1],\n",
      "        [1, 1, 1, 1]])\n",
      "tensor([[0, 0, 0, 0],\n",
      "        [0, 0, 0, 0],\n",
      "        [0, 0, 0, 0]])\n",
      "tensor([[1, 1, 1, 1],\n",
      "        [1, 1, 1, 1],\n",
      "        [1, 1, 1, 1]])\n",
      "tensor([[0, 0, 0, 0],\n",
      "        [0, 0, 0, 0],\n",
      "        [0, 0, 0, 0]])\n"
     ]
    }
   ],
   "source": [
    "#  Create a tensor of size (3,4,2)\n",
    "temp_tensor = torch.tensor([[[1.0, 2.0], [3.0, 4.0], [5.0, 6.0], [7.0, 8.0]], \n",
    "                            [[9.0, 10.0], [11.0, 12.0], [13.0, 14.0], [15.0, 16.0]],\n",
    "                            [[17.0, 18.0], [19.0, 20.0], [21.0, 22.0], [23.0, 24.0]]])\n",
    "\n",
    "#  Get the argmax and argmin of the tensor\n",
    "print(torch.argmax(temp_tensor, dim=0))\n",
    "print(torch.argmin(temp_tensor, dim=0))\n",
    "\n",
    "print(temp_tensor.argmax(dim=0))\n",
    "print(temp_tensor.argmin(dim=0))\n",
    "\n",
    "print(torch.argmax(temp_tensor, dim=1))\n",
    "print(torch.argmin(temp_tensor, dim=1))\n",
    "\n",
    "print(temp_tensor.argmax(dim=1))\n",
    "print(temp_tensor.argmin(dim=1))\n",
    "\n",
    "print(torch.argmax(temp_tensor, dim=2))\n",
    "print(torch.argmin(temp_tensor, dim=2))\n",
    "\n",
    "print(temp_tensor.argmax(dim=2))\n",
    "print(temp_tensor.argmin(dim=2))"
   ]
  },
  {
   "attachments": {},
   "cell_type": "markdown",
   "metadata": {},
   "source": [
    "#### Change Tensor datatype"
   ]
  },
  {
   "cell_type": "code",
   "execution_count": 73,
   "metadata": {},
   "outputs": [
    {
     "name": "stdout",
     "output_type": "stream",
     "text": [
      "torch.float32\n",
      "tensor([[1., 2., 3.],\n",
      "        [4., 5., 6.]], dtype=torch.float16)\n",
      "tensor([[1, 2, 3],\n",
      "        [4, 5, 6]], dtype=torch.int8)\n",
      "torch.float16\n",
      "tensor([[1., 2., 3.],\n",
      "        [4., 5., 6.]])\n",
      "tensor([[1, 2, 3],\n",
      "        [4, 5, 6]], dtype=torch.int8)\n",
      "torch.int8\n",
      "tensor([[1., 2., 3.],\n",
      "        [4., 5., 6.]])\n",
      "tensor([[1., 2., 3.],\n",
      "        [4., 5., 6.]], dtype=torch.float16)\n"
     ]
    }
   ],
   "source": [
    "# Create a tensor and check its datatype\n",
    "temp_tensor_fp32 = torch.tensor([[1.0, 2.0, 3.0], [4.0, 5.0, 6.0]])\n",
    "print(temp_tensor.dtype)\n",
    "print(temp_tensor_fp32.type(dtype= torch.float16))\n",
    "print(temp_tensor_fp32.type(dtype= torch.int8))\n",
    "\n",
    "# Create a float16 tensor and check its datatype\n",
    "temp_tensor_fp16 = torch.tensor([[1.0, 2.0, 3.0], [4.0, 5.0, 6.0]], dtype=torch.float16)\n",
    "print(temp_tensor_fp16.dtype)\n",
    "print(temp_tensor_fp16.type(dtype= torch.float32))\n",
    "print(temp_tensor_fp16.type(dtype= torch.int8))\n",
    "\n",
    "# Create a int8 tensor and check its datatype\n",
    "temp_tensor_int8 = torch.tensor([[1, 2, 3], [4, 5, 6]], dtype=torch.int8)\n",
    "print(temp_tensor_int8.dtype)\n",
    "print(temp_tensor_int8.type(dtype= torch.float32))\n",
    "print(temp_tensor_int8.type(dtype= torch.float16))\n",
    "\n"
   ]
  },
  {
   "attachments": {},
   "cell_type": "markdown",
   "metadata": {},
   "source": [
    "#### Reshaping, Stacking, Squeezing and Unsqueezing"
   ]
  },
  {
   "cell_type": "code",
   "execution_count": 78,
   "metadata": {},
   "outputs": [
    {
     "name": "stdout",
     "output_type": "stream",
     "text": [
      "torch.Size([3, 4, 2])\n",
      "[[[1.0, 2.0], [3.0, 4.0], [5.0, 6.0], [7.0, 8.0]], [[9.0, 10.0], [11.0, 12.0], [13.0, 14.0], [15.0, 16.0]], [[17.0, 18.0], [19.0, 20.0], [21.0, 22.0], [23.0, 24.0]]]\n",
      "[[[1.0, 2.0], [3.0, 4.0], [5.0, 6.0], [7.0, 8.0], [9.0, 10.0], [11.0, 12.0]], [[13.0, 14.0], [15.0, 16.0], [17.0, 18.0], [19.0, 20.0], [21.0, 22.0], [23.0, 24.0]]]\n",
      "torch.Size([2, 6, 2])\n"
     ]
    }
   ],
   "source": [
    "#  Create a tensor of size (3,4,2)\n",
    "temp_tensor = torch.tensor([[[1.0, 2.0], [3.0, 4.0], [5.0, 6.0], [7.0, 8.0]],\n",
    "                            [[9.0, 10.0], [11.0, 12.0], [13.0, 14.0], [15.0, 16.0]],\n",
    "                            [[17.0, 18.0], [19.0, 20.0], [21.0, 22.0], [23.0, 24.0]]])\n",
    "\n",
    "print(temp_tensor.shape)\n",
    "print(temp_tensor.tolist())\n",
    "\n",
    "# reshape the tensor\n",
    "reshaped_tensor = temp_tensor.reshape(2, 6, 2)\n",
    "print(reshaped_tensor.tolist())\n",
    "print(reshaped_tensor.shape)"
   ]
  },
  {
   "cell_type": "code",
   "execution_count": 82,
   "metadata": {},
   "outputs": [
    {
     "name": "stdout",
     "output_type": "stream",
     "text": [
      "torch.Size([2, 6, 2])\n",
      "[[[1.0, 2.0], [3.0, 4.0], [5.0, 6.0], [7.0, 8.0], [9.0, 10.0], [11.0, 12.0]], [[13.0, 14.0], [15.0, 16.0], [17.0, 18.0], [19.0, 20.0], [21.0, 22.0], [23.0, 24.0]]]\n",
      "tensor([[[ 0.,  2.],\n",
      "         [ 0.,  4.],\n",
      "         [ 0.,  6.],\n",
      "         [ 0.,  8.],\n",
      "         [ 0., 10.],\n",
      "         [ 0., 12.]],\n",
      "\n",
      "        [[ 0., 14.],\n",
      "         [ 0., 16.],\n",
      "         [ 0., 18.],\n",
      "         [ 0., 20.],\n",
      "         [ 0., 22.],\n",
      "         [ 0., 24.]]]) tensor([[[ 0.,  2.],\n",
      "         [ 0.,  4.],\n",
      "         [ 0.,  6.],\n",
      "         [ 0.,  8.]],\n",
      "\n",
      "        [[ 0., 10.],\n",
      "         [ 0., 12.],\n",
      "         [ 0., 14.],\n",
      "         [ 0., 16.]],\n",
      "\n",
      "        [[ 0., 18.],\n",
      "         [ 0., 20.],\n",
      "         [ 0., 22.],\n",
      "         [ 0., 24.]]])\n"
     ]
    }
   ],
   "source": [
    "\"\"\" https://tinyurl.com/2jllf5b6\n",
    "    As the name suggests, torch.view merely creates a view of the original tensor. \n",
    "    The new tensor will always share its data with the original tensor. \n",
    "    This means that if you change the original tensor, the reshaped tensor will change and vice versa.\n",
    "\"\"\"\n",
    "temp_tensor = torch.tensor([[[1.0, 2.0], [3.0, 4.0], [5.0, 6.0], [7.0, 8.0]],\n",
    "                            [[9.0, 10.0], [11.0, 12.0], [13.0, 14.0], [15.0, 16.0]],\n",
    "                            [[17.0, 18.0], [19.0, 20.0], [21.0, 22.0], [23.0, 24.0]]])\n",
    "\n",
    "viwed_tensor = temp_tensor.view(2, 6, 2)\n",
    "print(viwed_tensor.shape)\n",
    "print(viwed_tensor.tolist())\n",
    "\n",
    "# Changing the view tensor will change the original tensor\n",
    "viwed_tensor[:,:, 0] = 0\n",
    "print(viwed_tensor, temp_tensor)"
   ]
  },
  {
   "cell_type": "code",
   "execution_count": 87,
   "metadata": {},
   "outputs": [
    {
     "name": "stdout",
     "output_type": "stream",
     "text": [
      "tensor([[[1., 2., 3., 4.],\n",
      "         [5., 6., 7., 8.]],\n",
      "\n",
      "        [[1., 2., 3., 4.],\n",
      "         [5., 6., 7., 8.]],\n",
      "\n",
      "        [[1., 2., 3., 4.],\n",
      "         [5., 6., 7., 8.]]])\n",
      "torch.Size([3, 2, 4])\n",
      "tensor([[[1., 2., 3., 4.],\n",
      "         [1., 2., 3., 4.],\n",
      "         [1., 2., 3., 4.]],\n",
      "\n",
      "        [[5., 6., 7., 8.],\n",
      "         [5., 6., 7., 8.],\n",
      "         [5., 6., 7., 8.]]])\n",
      "torch.Size([2, 3, 4])\n",
      "tensor([[[1., 1., 1.],\n",
      "         [2., 2., 2.],\n",
      "         [3., 3., 3.],\n",
      "         [4., 4., 4.]],\n",
      "\n",
      "        [[5., 5., 5.],\n",
      "         [6., 6., 6.],\n",
      "         [7., 7., 7.],\n",
      "         [8., 8., 8.]]])\n",
      "torch.Size([2, 4, 3])\n"
     ]
    }
   ],
   "source": [
    "# Create a tensor of size (2,4)\n",
    "\n",
    "temp_tensor = torch.tensor([[1.0, 2.0, 3.0, 4.0], [5.0, 6.0, 7.0, 8.0]])\n",
    "\n",
    "# stack the tensor along the 0th dimension\n",
    "stacked_tensor = torch.stack([temp_tensor, temp_tensor, temp_tensor], dim=0)\n",
    "print(stacked_tensor)\n",
    "print(stacked_tensor.shape)\n",
    "\n",
    "# stack the tensor along the 1st dimension\n",
    "stacked_tensor = torch.stack([temp_tensor, temp_tensor, temp_tensor], dim=1)\n",
    "print(stacked_tensor)\n",
    "print(stacked_tensor.shape)\n",
    "\n",
    "# stack the tensor along the 2nd dimension\n",
    "stacked_tensor = torch.stack([temp_tensor, temp_tensor, temp_tensor], dim=2)\n",
    "print(stacked_tensor)\n",
    "print(stacked_tensor.shape)\n"
   ]
  },
  {
   "cell_type": "code",
   "execution_count": 98,
   "metadata": {},
   "outputs": [
    {
     "name": "stdout",
     "output_type": "stream",
     "text": [
      "tensor([[1., 2., 3., 4.],\n",
      "        [5., 6., 7., 8.]])\n",
      "torch.Size([2, 4])\n",
      "tensor([[[1.],\n",
      "         [2.],\n",
      "         [3.],\n",
      "         [4.]],\n",
      "\n",
      "        [[5.],\n",
      "         [6.],\n",
      "         [7.],\n",
      "         [8.]]])\n",
      "torch.Size([2, 4, 1])\n"
     ]
    }
   ],
   "source": [
    "# Create a tensor of size (2,4,1)\n",
    "temp_tensor = torch.tensor([[1.0, 2.0, 3.0, 4.0], [5.0, 6.0, 7.0, 8.0]])\n",
    "\n",
    "# Squueze the tensor along the last dimension\n",
    "squeuezed_tensor = temp_tensor.squeeze(dim=-1)\n",
    "print(squeuezed_tensor)\n",
    "print(squeuezed_tensor.shape)\n",
    "\n",
    "# Unsqueezed the tensor along the last dimension\n",
    "unsqueezed_tensor = squeuezed_tensor.unsqueeze(dim=-1)\n",
    "print(unsqueezed_tensor)\n",
    "print(unsqueezed_tensor.shape)"
   ]
  },
  {
   "attachments": {},
   "cell_type": "markdown",
   "metadata": {},
   "source": [
    "#### Indexing (Selecting Data from Tensors)"
   ]
  },
  {
   "cell_type": "code",
   "execution_count": 100,
   "metadata": {},
   "outputs": [
    {
     "name": "stdout",
     "output_type": "stream",
     "text": [
      "First square bracket:\n",
      "tensor([[ 1.,  2.,  3.],\n",
      "        [ 4.,  5.,  6.],\n",
      "        [ 7.,  8.,  9.],\n",
      "        [10., 11., 12.]])\n",
      "Second square bracket: tensor([1., 2., 3.])\n",
      "Third square bracket: 1.0\n",
      "0th dimension and the 0 index of 1st dimension:\n",
      "tensor([[ 1.,  2.,  3.],\n",
      "        [13., 14., 15.]])\n",
      "0th & 1st dimensions but only index 1 of 2nd dimension:\n",
      "tensor([[ 2.,  5.,  8., 11.],\n",
      "        [14., 17., 20., 23.]])\n",
      "0th dimension but only the 1 index value of the 1st and 2nd dimension:\n",
      "tensor([ 5., 17.])\n",
      "0th and 1st dimension and all values of 2nd dimension:\n",
      "tensor([1., 2., 3.])\n"
     ]
    }
   ],
   "source": [
    "# Create a tensor of size (2, 4, 3)\n",
    "temp_tensor = torch.tensor([[[1.0, 2.0, 3.0], [4.0, 5.0, 6.0], [7.0, 8.0, 9.0], [10.0, 11.0, 12.0]],\n",
    "                            [[13.0, 14.0, 15.0], [16.0, 17.0, 18.0], [19.0, 20.0, 21.0], [22.0, 23.0, 24.0]]])\n",
    "\n",
    "# Index bracket by bracket\n",
    "print(f\"First square bracket:\\n{temp_tensor[0]}\") \n",
    "print(f\"Second square bracket: {temp_tensor[0][0]}\") \n",
    "print(f\"Third square bracket: {temp_tensor[0][0][0]}\")\n",
    "\n",
    "# Get all values of 0th dimension and the 0 index of 1st dimension\n",
    "print(f\"0th dimension and the 0 index of 1st dimension:\\n{temp_tensor[:, 0]}\")\n",
    "\n",
    "# Get all values of 0th & 1st dimensions but only index 1 of 2nd dimension\n",
    "print(f\"0th & 1st dimensions but only index 1 of 2nd dimension:\\n{temp_tensor[:, :, 1]}\")\n",
    "\n",
    "# Get all values of the 0 dimension but only the 1 index value of the 1st and 2nd dimension\n",
    "print(f\"0th dimension but only the 1 index value of the 1st and 2nd dimension:\\n{temp_tensor[:, 1, 1]}\")\n",
    "\n",
    "# Get index 0 of 0th and 1st dimension and all values of 2nd dimension \n",
    "print(f\"0th and 1st dimension and all values of 2nd dimension:\\n{temp_tensor[0, 0, :]}\")\n"
   ]
  },
  {
   "attachments": {},
   "cell_type": "markdown",
   "metadata": {},
   "source": [
    "#### PyTorch Tensors & NumPy"
   ]
  },
  {
   "cell_type": "code",
   "execution_count": 103,
   "metadata": {},
   "outputs": [
    {
     "name": "stdout",
     "output_type": "stream",
     "text": [
      "[[1 2 3]\n",
      " [4 5 6]]\n",
      "tensor([[1, 2, 3],\n",
      "        [4, 5, 6]])\n",
      "[[1 2 3]\n",
      " [4 5 6]]\n"
     ]
    }
   ],
   "source": [
    "\"\"\"\n",
    "    torch.from_numpy(ndarray) - NumPy array -> PyTorch tensor.\n",
    "    torch.Tensor.numpy() - PyTorch tensor -> NumPy array.\n",
    "\"\"\"\n",
    "\n",
    "# Create a numpy array of size (2, 3)\n",
    "temp_numpy_array = np.array([[1, 2, 3], [4, 5, 6]])\n",
    "print(temp_numpy_array)\n",
    "\n",
    "# Convert the numpy array to a tensor\n",
    "temp_tensor = torch.from_numpy(temp_numpy_array)\n",
    "print(temp_tensor)\n",
    "\n",
    "# Convert the tensor to a numpy array\n",
    "temp_numpy_array = temp_tensor.numpy()\n",
    "print(temp_numpy_array)"
   ]
  },
  {
   "attachments": {},
   "cell_type": "markdown",
   "metadata": {},
   "source": [
    "#### Running Tensors on GPUs"
   ]
  },
  {
   "cell_type": "code",
   "execution_count": 104,
   "metadata": {},
   "outputs": [
    {
     "name": "stdout",
     "output_type": "stream",
     "text": [
      "False\n"
     ]
    }
   ],
   "source": [
    "#  check for GPU\n",
    "print(torch.cuda.is_available())"
   ]
  },
  {
   "cell_type": "code",
   "execution_count": 105,
   "metadata": {},
   "outputs": [],
   "source": [
    "#  Set device type\n",
    "device = torch.device(\"cuda\" if torch.cuda.is_available() else \"cpu\")"
   ]
  },
  {
   "cell_type": "code",
   "execution_count": 107,
   "metadata": {},
   "outputs": [
    {
     "name": "stdout",
     "output_type": "stream",
     "text": [
      "0\n"
     ]
    }
   ],
   "source": [
    "#  Count the number of GPUs available\n",
    "print(torch.cuda.device_count())"
   ]
  },
  {
   "cell_type": "code",
   "execution_count": 111,
   "metadata": {},
   "outputs": [
    {
     "name": "stdout",
     "output_type": "stream",
     "text": [
      "tensor([[1., 2., 3.],\n",
      "        [4., 5., 6.]]) tensor([[1., 2., 3.],\n",
      "        [4., 5., 6.]])\n",
      "tensor([[1., 2., 3.],\n",
      "        [4., 5., 6.]])\n"
     ]
    }
   ],
   "source": [
    "# Create a tensor\n",
    "temp_tensor = torch.tensor([[1.0, 2.0, 3.0], [4.0, 5.0, 6.0]])\n",
    "\n",
    "#  Put the tensor on the device\n",
    "temp_tensor_device = temp_tensor.to(device)\n",
    "print(temp_tensor, temp_tensor_device)\n",
    "\n",
    "# Moving tensors back to the CPU\n",
    "temp_tensor_cpu = temp_tensor_device.to(\"cpu\")\n",
    "print(temp_tensor_cpu)"
   ]
  }
 ],
 "metadata": {
  "kernelspec": {
   "display_name": "Python 3",
   "language": "python",
   "name": "python3"
  },
  "language_info": {
   "codemirror_mode": {
    "name": "ipython",
    "version": 3
   },
   "file_extension": ".py",
   "mimetype": "text/x-python",
   "name": "python",
   "nbconvert_exporter": "python",
   "pygments_lexer": "ipython3",
   "version": "3.10.6"
  },
  "orig_nbformat": 4,
  "vscode": {
   "interpreter": {
    "hash": "916dbcbb3f70747c44a77c7bcd40155683ae19c65e1c03b4aa3499c5328201f1"
   }
  }
 },
 "nbformat": 4,
 "nbformat_minor": 2
}
